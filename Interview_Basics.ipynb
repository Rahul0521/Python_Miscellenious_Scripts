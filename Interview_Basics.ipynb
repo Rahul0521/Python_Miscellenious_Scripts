{
 "cells": [
  {
   "cell_type": "code",
   "execution_count": 127,
   "id": "168185e4-10f6-4645-8680-f04d450270d2",
   "metadata": {},
   "outputs": [
    {
     "data": {
      "text/markdown": [
       "**Reverse a String**\n"
      ],
      "text/plain": [
       "<IPython.core.display.Markdown object>"
      ]
     },
     "metadata": {},
     "output_type": "display_data"
    }
   ],
   "source": [
    "%%markdown\n",
    "**Reverse a String**"
   ]
  },
  {
   "cell_type": "code",
   "execution_count": 25,
   "id": "7874ad0f-3af6-4d3b-99b4-d528d12a64bf",
   "metadata": {},
   "outputs": [],
   "source": [
    "# Brtueforce\n",
    "# Time:BigO(n)\n",
    "# Space:BigO(1)\n",
    "def reverse_string(x:str):\n",
    "    res = \"\"\n",
    "    for char in x:\n",
    "        res = char+res\n",
    "    return res\n",
    "\n",
    "def reverse_string_slice(y:str):\n",
    "    return y[::-1] if len(y)>0 else \"Empty String Passed!\"\n"
   ]
  },
  {
   "cell_type": "code",
   "execution_count": 30,
   "id": "001a9ff3-27a8-442d-96ab-47dd9563b201",
   "metadata": {},
   "outputs": [
    {
     "name": "stdout",
     "output_type": "stream",
     "text": [
      "\n"
     ]
    },
    {
     "data": {
      "text/plain": [
       "'Empty String Passed!'"
      ]
     },
     "execution_count": 30,
     "metadata": {},
     "output_type": "execute_result"
    }
   ],
   "source": [
    "reverse_string(\"hello Rahul\")\n",
    "print()\n",
    "reverse_string_slice(\"\")\n"
   ]
  },
  {
   "cell_type": "code",
   "execution_count": 126,
   "id": "b12ec157-ed9e-417d-a3a0-c67118102b52",
   "metadata": {},
   "outputs": [
    {
     "data": {
      "text/markdown": [
       "**Check for Palindrome**\n"
      ],
      "text/plain": [
       "<IPython.core.display.Markdown object>"
      ]
     },
     "metadata": {},
     "output_type": "display_data"
    }
   ],
   "source": [
    "%%markdown\n",
    "**Check for Palindrome**"
   ]
  },
  {
   "cell_type": "code",
   "execution_count": 33,
   "id": "4d9c7b21-1f66-475b-a8d6-357dd1dedb3d",
   "metadata": {},
   "outputs": [],
   "source": [
    "#Slicing Method\n",
    "#Time:BigO(1)\n",
    "def palindrome(x):\n",
    "    if x==x[::-1]:\n",
    "        return True\n",
    "    return False"
   ]
  },
  {
   "cell_type": "code",
   "execution_count": 50,
   "id": "fe9f5d53-4f7e-4e0c-bca7-1650eaa584ce",
   "metadata": {},
   "outputs": [
    {
     "data": {
      "text/plain": [
       "False"
      ]
     },
     "execution_count": 50,
     "metadata": {},
     "output_type": "execute_result"
    }
   ],
   "source": [
    "palindrome(\"101011\")"
   ]
  },
  {
   "cell_type": "code",
   "execution_count": 125,
   "id": "610c16c5-e86e-4db0-816b-4a903fa4b333",
   "metadata": {},
   "outputs": [
    {
     "data": {
      "text/markdown": [
       "**Find the Maximum Element in a List**\n"
      ],
      "text/plain": [
       "<IPython.core.display.Markdown object>"
      ]
     },
     "metadata": {},
     "output_type": "display_data"
    }
   ],
   "source": [
    "%%markdown\n",
    "**Find the Maximum Element in a List**"
   ]
  },
  {
   "cell_type": "code",
   "execution_count": 42,
   "id": "0aaee765-d233-4004-883b-2c12a26cf965",
   "metadata": {},
   "outputs": [],
   "source": [
    "#Without inbuilt \n",
    "#Time: BigO(n)\n",
    "def find_max(arr:list):\n",
    "    max_ele  = 0\n",
    "    for i in range(0,len(arr)):\n",
    "        if max_ele<arr[i]:\n",
    "            max_ele = arr[i]\n",
    "    return max_ele\n",
    "\n",
    "\n",
    "def find_max_list(arr:list):\n",
    "    return max(arr) if arr else []"
   ]
  },
  {
   "cell_type": "code",
   "execution_count": 41,
   "id": "e1aa391e-57c9-4359-bfe1-cf860d6e8b4b",
   "metadata": {},
   "outputs": [
    {
     "data": {
      "text/plain": [
       "123"
      ]
     },
     "execution_count": 41,
     "metadata": {},
     "output_type": "execute_result"
    }
   ],
   "source": [
    "find_max([1,2,67,80,123])"
   ]
  },
  {
   "cell_type": "code",
   "execution_count": 43,
   "id": "e9b6c690-1f51-4d7b-a94d-ee4763c51f79",
   "metadata": {},
   "outputs": [
    {
     "data": {
      "text/plain": [
       "10101"
      ]
     },
     "execution_count": 43,
     "metadata": {},
     "output_type": "execute_result"
    }
   ],
   "source": [
    "find_max_list([11,0,1234,10101,90])"
   ]
  },
  {
   "cell_type": "code",
   "execution_count": 124,
   "id": "6497381a-e125-4702-a9f3-e9b61275b9a7",
   "metadata": {},
   "outputs": [
    {
     "data": {
      "text/markdown": [
       "**Fibonacci Sequence**\n"
      ],
      "text/plain": [
       "<IPython.core.display.Markdown object>"
      ]
     },
     "metadata": {},
     "output_type": "display_data"
    }
   ],
   "source": [
    "%%markdown\n",
    "**Fibonacci Sequence**"
   ]
  },
  {
   "cell_type": "code",
   "execution_count": 84,
   "id": "f319b45b-6f98-4e69-983d-24a1988b8eda",
   "metadata": {},
   "outputs": [],
   "source": [
    "#Recursive Method\n",
    "\n",
    "def fibonacci_recursive(x):\n",
    "    \n",
    "    if x==0 or x==1:\n",
    "      \n",
    "        return x\n",
    "    else:\n",
    "        return fibonacci_recursive(x-1)+ fibonacci_recursive(x-2)"
   ]
  },
  {
   "cell_type": "code",
   "execution_count": 77,
   "id": "9d71eabe-327e-427a-a00e-9d2123ddfdca",
   "metadata": {},
   "outputs": [
    {
     "data": {
      "text/plain": [
       "13"
      ]
     },
     "execution_count": 77,
     "metadata": {},
     "output_type": "execute_result"
    }
   ],
   "source": [
    "fibonacci_recursive(7)"
   ]
  },
  {
   "cell_type": "code",
   "execution_count": 85,
   "id": "9ba7e75e-7ef7-4f00-8a7e-1aa92ac6416d",
   "metadata": {},
   "outputs": [],
   "source": [
    "#Helper\n",
    "def print_series(n):\n",
    "    for i in range(n+1):\n",
    "        print(fibonacci_recursive(i),end=\"  \")"
   ]
  },
  {
   "cell_type": "code",
   "execution_count": 86,
   "id": "94a6df32-0e2b-4fd9-8c7f-1cb6bf328e57",
   "metadata": {},
   "outputs": [
    {
     "name": "stdout",
     "output_type": "stream",
     "text": [
      "0  1  1  2  3  5  8  13  21  34  55  "
     ]
    }
   ],
   "source": [
    "print_series(10)"
   ]
  },
  {
   "cell_type": "code",
   "execution_count": 91,
   "id": "476fb89c-f53b-4a6f-92d2-8c9ba8d630ee",
   "metadata": {},
   "outputs": [],
   "source": [
    "#Dynamic Programmng Tabulation Method\n",
    "#Time:BigO(n)\n",
    "# Space:BigO(n)\n",
    "def dp_fibonacci(n):\n",
    "    stack = [None]*(n+1)\n",
    "    stack[0],stack[1] = 0,1\n",
    "    for i in range(2,n+1):\n",
    "        stack[i] = stack[i-1]+stack[i-2]\n",
    "    return stack"
   ]
  },
  {
   "cell_type": "code",
   "execution_count": 90,
   "id": "28d9d459-a684-4626-a453-647d630aa9ef",
   "metadata": {},
   "outputs": [
    {
     "data": {
      "text/plain": [
       "[0, 1, 1, 2, 3, 5, 8, 13]"
      ]
     },
     "execution_count": 90,
     "metadata": {},
     "output_type": "execute_result"
    }
   ],
   "source": [
    "dp_fibonacci(7)"
   ]
  },
  {
   "cell_type": "code",
   "execution_count": 123,
   "id": "8235a94c-7dc8-4d40-9c8d-52442466fa98",
   "metadata": {},
   "outputs": [
    {
     "data": {
      "text/markdown": [
       "**Prime Number Checker**\n"
      ],
      "text/plain": [
       "<IPython.core.display.Markdown object>"
      ]
     },
     "metadata": {},
     "output_type": "display_data"
    }
   ],
   "source": [
    "%%markdown\n",
    "**Prime Number Checker**"
   ]
  },
  {
   "cell_type": "code",
   "execution_count": 103,
   "id": "283d00a0-d6a5-4c1e-b660-b5d31c7b46a4",
   "metadata": {},
   "outputs": [],
   "source": [
    "#Time BigO(n)\n",
    "def prime_checker(n):\n",
    "    for i in range(2,int(n**0.5)+1):\n",
    "        if n%i==0:\n",
    "            return False\n",
    "    return True"
   ]
  },
  {
   "cell_type": "code",
   "execution_count": 104,
   "id": "ad0a86b4-426d-440b-8363-cd5c25297b32",
   "metadata": {},
   "outputs": [
    {
     "data": {
      "text/plain": [
       "False"
      ]
     },
     "execution_count": 104,
     "metadata": {},
     "output_type": "execute_result"
    }
   ],
   "source": [
    "prime_checker(4)"
   ]
  },
  {
   "cell_type": "code",
   "execution_count": 122,
   "id": "e0f869f1-4bbe-4df0-be18-680115a37a69",
   "metadata": {},
   "outputs": [
    {
     "data": {
      "text/markdown": [
       "**Merge Two Sorted List**\n"
      ],
      "text/plain": [
       "<IPython.core.display.Markdown object>"
      ]
     },
     "metadata": {},
     "output_type": "display_data"
    }
   ],
   "source": [
    "%%markdown\n",
    "**Merge Two Sorted List**"
   ]
  },
  {
   "cell_type": "code",
   "execution_count": 116,
   "id": "dd273177-1fe2-4d96-b08e-df504636e47a",
   "metadata": {},
   "outputs": [],
   "source": [
    "#Compare Two List Items and Append\n",
    "#When list is exhausted dump the remaiing as they are already sorted\n",
    "def merge_list(x,y):\n",
    "    merged_res = []\n",
    "    left,right=0,0\n",
    "    while left<len(x) and right<len(y):\n",
    "        if x[left]<y[right]:\n",
    "            merged_res.append(x[left])\n",
    "            left+=1\n",
    "        else:\n",
    "            merged_res.append(y[right])\n",
    "            right+=1\n",
    "    merged_res.extend(x[left:])\n",
    "    merged_res.extend(y[right:])\n",
    "    return merged_res\n",
    "            "
   ]
  },
  {
   "cell_type": "code",
   "execution_count": 117,
   "id": "e320a43a-1bd0-4275-9818-f480b3fe8760",
   "metadata": {},
   "outputs": [
    {
     "data": {
      "text/plain": [
       "[1, 2, 3, 4, 5, 6]"
      ]
     },
     "execution_count": 117,
     "metadata": {},
     "output_type": "execute_result"
    }
   ],
   "source": [
    "merge_list([1,2,3],[4,5,6])"
   ]
  },
  {
   "cell_type": "code",
   "execution_count": 121,
   "id": "fe346568-4365-49b8-befd-4e3c173e7623",
   "metadata": {},
   "outputs": [
    {
     "data": {
      "text/markdown": [
       "**Find Duplicate Elements in a List**\n"
      ],
      "text/plain": [
       "<IPython.core.display.Markdown object>"
      ]
     },
     "metadata": {},
     "output_type": "display_data"
    }
   ],
   "source": [
    "%%markdown\n",
    "**Find Duplicate Elements in a List**"
   ]
  },
  {
   "cell_type": "code",
   "execution_count": 145,
   "id": "6de1d336-c08d-4f86-8d28-f96ded61888f",
   "metadata": {},
   "outputs": [],
   "source": [
    "#Using Sets or we can use hash\n",
    "def find_duplicates(arr:list):\n",
    "    visited = set()\n",
    "    duplicates = set()\n",
    "    for i in arr:\n",
    "        if i not in visited:\n",
    "            visited.add(i)\n",
    "        else:\n",
    "            duplicates.add(i)\n",
    "    return duplicates\n",
    "    "
   ]
  },
  {
   "cell_type": "code",
   "execution_count": 131,
   "id": "fe26b21f-c999-45c6-9873-626467b951df",
   "metadata": {},
   "outputs": [
    {
     "data": {
      "text/plain": [
       "{2, 9, 11}"
      ]
     },
     "execution_count": 131,
     "metadata": {},
     "output_type": "execute_result"
    }
   ],
   "source": [
    "find_duplicates([1,23,2,19,11,9,2,9,11])"
   ]
  },
  {
   "cell_type": "code",
   "execution_count": 144,
   "id": "6cc60d1c-9fd5-481d-a260-06a0f7a3bff6",
   "metadata": {},
   "outputs": [],
   "source": [
    "#Using Counter\n",
    "from collections import Counter\n",
    "def find_duplicates_items(arr:list):\n",
    "    duplicates = set()\n",
    "    counts = Counter(arr)\n",
    "    for i,j in enumerate(counts):\n",
    "        if counts[j]>1:\n",
    "            duplicates.add(j)\n",
    "    return duplicates\n",
    "            "
   ]
  },
  {
   "cell_type": "code",
   "execution_count": 143,
   "id": "b50aa9c7-cbbb-4510-b1f6-2931d89165ec",
   "metadata": {},
   "outputs": [
    {
     "data": {
      "text/plain": [
       "{1, 4}"
      ]
     },
     "execution_count": 143,
     "metadata": {},
     "output_type": "execute_result"
    }
   ],
   "source": [
    "find_duplicates_items([1,2,3,4,1,4])"
   ]
  },
  {
   "cell_type": "code",
   "execution_count": 146,
   "id": "16ea0668-1183-4bf7-9687-66d6b6dc37f3",
   "metadata": {},
   "outputs": [
    {
     "data": {
      "text/markdown": [
       "**Anagram Checker**\n"
      ],
      "text/plain": [
       "<IPython.core.display.Markdown object>"
      ]
     },
     "metadata": {},
     "output_type": "display_data"
    }
   ],
   "source": [
    "%%markdown\n",
    "**Anagram Checker**"
   ]
  },
  {
   "cell_type": "code",
   "execution_count": 150,
   "id": "6b789e25-98b5-4696-a7d5-13a045bcc5a2",
   "metadata": {},
   "outputs": [],
   "source": [
    "def check_anagram(x:str,y:str):\n",
    "    if sorted(x)==sorted(y):\n",
    "        return True\n",
    "    return False"
   ]
  },
  {
   "cell_type": "code",
   "execution_count": 154,
   "id": "27c94c13-733f-4803-9fba-1f99b1c657d9",
   "metadata": {},
   "outputs": [
    {
     "data": {
      "text/plain": [
       "False"
      ]
     },
     "execution_count": 154,
     "metadata": {},
     "output_type": "execute_result"
    }
   ],
   "source": [
    "check_anagram([3,1],[1,2,3])\n",
    "\n"
   ]
  },
  {
   "cell_type": "code",
   "execution_count": 155,
   "id": "8385585b-e005-4516-b46a-4bb416bb08d9",
   "metadata": {},
   "outputs": [
    {
     "data": {
      "text/markdown": [
       "**Implementation of Queue using Two Stacks**\n"
      ],
      "text/plain": [
       "<IPython.core.display.Markdown object>"
      ]
     },
     "metadata": {},
     "output_type": "display_data"
    }
   ],
   "source": [
    "%%markdown\n",
    "**Implementation of Queue using Two Stacks**"
   ]
  },
  {
   "cell_type": "code",
   "execution_count": 162,
   "id": "1eca9eec-7464-4463-86e6-da4095fe87ee",
   "metadata": {},
   "outputs": [],
   "source": [
    "class QueueWithStacks:\n",
    "    def __init__(self):\n",
    "        self.stack1 = []\n",
    "        self.stack2 = []\n",
    "    def enque(self,item):\n",
    "        self.stack1.append(item)\n",
    "    def dequeue(self):\n",
    "        if not self.stack2:\n",
    "            while self.stack1:\n",
    "                self.stack2.appned(self.stack1.pop())\n",
    "        if not self.stack2:\n",
    "            return IndexError(\"Cannot Dueue from Empty Queue\")\n",
    "        return self.stack2.pop()\n",
    "    def peek(self):\n",
    "        if not self.stack2:\n",
    "            while self.stack1:\n",
    "                self.stack2.append(self.stack1.pop())\n",
    "        return self.stack2[-1]\n",
    "        "
   ]
  },
  {
   "cell_type": "code",
   "execution_count": 164,
   "id": "0cbaedb3-6a0c-4da5-ad3b-056b90f345fc",
   "metadata": {},
   "outputs": [
    {
     "data": {
      "text/plain": [
       "7"
      ]
     },
     "execution_count": 164,
     "metadata": {},
     "output_type": "execute_result"
    }
   ],
   "source": [
    "obj  =QueueWithStacks()\n",
    "obj.enque(7)\n",
    "obj.enque(2)\n",
    "obj.enque(3)\n",
    "obj.peek()"
   ]
  },
  {
   "cell_type": "code",
   "execution_count": 165,
   "id": "3c3dc86b-9265-41f3-9c18-0fa4d54905eb",
   "metadata": {},
   "outputs": [
    {
     "data": {
      "text/markdown": [
       "**Binary Search**\n"
      ],
      "text/plain": [
       "<IPython.core.display.Markdown object>"
      ]
     },
     "metadata": {},
     "output_type": "display_data"
    }
   ],
   "source": [
    "%%markdown\n",
    "**Binary Search**"
   ]
  },
  {
   "cell_type": "code",
   "execution_count": 168,
   "id": "a0a30440-2ef2-40f8-898f-83a9c5a4fbba",
   "metadata": {},
   "outputs": [],
   "source": [
    "def binary_search(arr,x):\n",
    "    left,right = 0,len(arr)-1\n",
    "    while left<=right:\n",
    "        mid = left+(right-left)//2\n",
    "        if arr[mid]==x:\n",
    "            return mid\n",
    "        elif arr[mid]>x:\n",
    "            right = mid -1\n",
    "        else:\n",
    "            left = mid+1\n",
    "    return -1\n"
   ]
  },
  {
   "cell_type": "code",
   "execution_count": 171,
   "id": "10a9303b-5b3a-45d6-8458-ee76dff04a44",
   "metadata": {},
   "outputs": [
    {
     "data": {
      "text/plain": [
       "-1"
      ]
     },
     "execution_count": 171,
     "metadata": {},
     "output_type": "execute_result"
    }
   ],
   "source": [
    "binary_search([1,2,3,4,56],39)"
   ]
  },
  {
   "cell_type": "code",
   "execution_count": 173,
   "id": "092f14a1-a41e-408b-884a-19ee66b4ea0e",
   "metadata": {},
   "outputs": [
    {
     "data": {
      "text/markdown": [
       "**Reverse a Linked List**\n"
      ],
      "text/plain": [
       "<IPython.core.display.Markdown object>"
      ]
     },
     "metadata": {},
     "output_type": "display_data"
    }
   ],
   "source": [
    "%%markdown\n",
    "**Reverse a Linked List**"
   ]
  },
  {
   "cell_type": "code",
   "execution_count": 1,
   "id": "2c350e6e-0724-4082-a870-6cf00459009f",
   "metadata": {},
   "outputs": [],
   "source": [
    "class Node:\n",
    "    def __init__(self,data):\n",
    "        self.data = data\n",
    "        self.next = next\n",
    "class LinkedList:\n",
    "    def __init__(self):\n",
    "        self.head = None\n",
    "    \n",
    "    def insert_item(self,item):\n",
    "        curr = Node(item)\n",
    "        curr.next = self.head\n",
    "        self.head = curr\n",
    "        \n",
    "    def printList(self):\n",
    "        temp = self.head\n",
    "        while temp:\n",
    "            print(temp.data,end=\" \")\n",
    "            temp = temp.next\n",
    "\n",
    "            "
   ]
  },
  {
   "cell_type": "code",
   "execution_count": 2,
   "id": "e7e68913-3f3b-4be9-946d-d5086f1728a3",
   "metadata": {},
   "outputs": [],
   "source": [
    "obj = LinkedList()"
   ]
  },
  {
   "cell_type": "code",
   "execution_count": 3,
   "id": "4eb21230-432d-498e-af7f-29693a98c4fb",
   "metadata": {},
   "outputs": [],
   "source": [
    "obj.insert_item(1)\n",
    "obj.insert_item(2)\n",
    "obj.insert_item(3)\n",
    "obj.insert_item(4)\n",
    "obj.insert_item(5)\n"
   ]
  },
  {
   "cell_type": "code",
   "execution_count": 4,
   "id": "84e88473-e8cf-4122-a8bf-54f857e96012",
   "metadata": {},
   "outputs": [
    {
     "name": "stdout",
     "output_type": "stream",
     "text": [
      "5 4 3 2 1 "
     ]
    }
   ],
   "source": [
    "obj.printList()"
   ]
  },
  {
   "cell_type": "code",
   "execution_count": 5,
   "id": "9aceb49e-40d7-4f3e-a8a2-5b09967cfc1d",
   "metadata": {},
   "outputs": [],
   "source": [
    "def reverse_linkedlist(head):\n",
    "    # print(obj.printList())\n",
    "    prev,current= None,head\n",
    "    while current:\n",
    "        next_ele = current.next\n",
    "        current.next = prev\n",
    "        prev = current\n",
    "        current = next_ele\n",
    "    return prev\n"
   ]
  },
  {
   "cell_type": "code",
   "execution_count": null,
   "id": "8b5d9090-5e5e-42b1-866b-98296a18fc43",
   "metadata": {},
   "outputs": [],
   "source": []
  },
  {
   "cell_type": "code",
   "execution_count": 6,
   "id": "0043d500-b25d-42ec-8176-f9a55fb6189c",
   "metadata": {},
   "outputs": [],
   "source": [
    "obj1 = reverse_linkedlist(obj.head)"
   ]
  },
  {
   "cell_type": "code",
   "execution_count": 9,
   "id": "7f13ad5a-03bd-45f1-a457-132a739233e2",
   "metadata": {},
   "outputs": [
    {
     "name": "stdout",
     "output_type": "stream",
     "text": [
      "1 2 3 4 5 "
     ]
    }
   ],
   "source": [
    "curr = obj1\n",
    "while curr:\n",
    "    print(curr.data,end=\" \")\n",
    "    curr = curr.next"
   ]
  },
  {
   "cell_type": "code",
   "execution_count": 10,
   "id": "cbcb7956-f1a1-43c7-bda4-ee76fb90c6b7",
   "metadata": {},
   "outputs": [
    {
     "data": {
      "text/markdown": [
       "**Detect a Cycle in a Linked List**\n"
      ],
      "text/plain": [
       "<IPython.core.display.Markdown object>"
      ]
     },
     "metadata": {},
     "output_type": "display_data"
    }
   ],
   "source": [
    "%%markdown\n",
    "**Detect a Cycle in a Linked List**"
   ]
  },
  {
   "cell_type": "code",
   "execution_count": null,
   "id": "e75cefc5-0225-4fac-9d69-75fa7a58ad88",
   "metadata": {},
   "outputs": [],
   "source": []
  },
  {
   "cell_type": "code",
   "execution_count": 11,
   "id": "8434361a-c88b-4bb3-9742-097d5b4205c1",
   "metadata": {},
   "outputs": [
    {
     "data": {
      "text/markdown": [
       "**Flatten a List/Array**\n"
      ],
      "text/plain": [
       "<IPython.core.display.Markdown object>"
      ]
     },
     "metadata": {},
     "output_type": "display_data"
    }
   ],
   "source": [
    "%%markdown\n",
    "**Flatten a List/Array**"
   ]
  },
  {
   "cell_type": "code",
   "execution_count": 21,
   "id": "97df403a-b304-4336-8883-ff1a383bacd9",
   "metadata": {},
   "outputs": [],
   "source": [
    "def flatten_list(arr:list):\n",
    "    one_dim_list = []\n",
    "    for i in arr:\n",
    "        if type(i) is list:\n",
    "            one_dim_list.extend(flatten_list(i))\n",
    "        else:\n",
    "            one_dim_list.append(i)\n",
    "            \n",
    "    return one_dim_list\n",
    "        "
   ]
  },
  {
   "cell_type": "code",
   "execution_count": 24,
   "id": "0e549d8c-d18c-4ed3-9198-ece35fd7e164",
   "metadata": {},
   "outputs": [
    {
     "data": {
      "text/plain": [
       "[1, 2, 2, 3, 4, 1, 2, 3]"
      ]
     },
     "execution_count": 24,
     "metadata": {},
     "output_type": "execute_result"
    }
   ],
   "source": [
    "flatten_list([1,2,[2,3,4,[1,[2,3]]]])"
   ]
  }
 ],
 "metadata": {
  "kernelspec": {
   "display_name": "Python 3 (ipykernel)",
   "language": "python",
   "name": "python3"
  },
  "language_info": {
   "codemirror_mode": {
    "name": "ipython",
    "version": 3
   },
   "file_extension": ".py",
   "mimetype": "text/x-python",
   "name": "python",
   "nbconvert_exporter": "python",
   "pygments_lexer": "ipython3",
   "version": "3.9.0"
  }
 },
 "nbformat": 4,
 "nbformat_minor": 5
}

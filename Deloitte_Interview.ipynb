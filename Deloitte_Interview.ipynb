{
 "cells": [
  {
   "cell_type": "code",
   "execution_count": 3,
   "id": "a28d44ba-ca9f-4b02-ad7d-54df5801c40c",
   "metadata": {},
   "outputs": [],
   "source": [
    "data = [i**2 for i in range(0,10)]"
   ]
  },
  {
   "cell_type": "code",
   "execution_count": null,
   "id": "49ee87f9-d457-44fb-b98a-58b05c443cad",
   "metadata": {},
   "outputs": [],
   "source": []
  },
  {
   "cell_type": "code",
   "execution_count": 4,
   "id": "38fc2aff-1fdb-406b-8b0c-02b27f377646",
   "metadata": {},
   "outputs": [
    {
     "data": {
      "text/plain": [
       "[81, 64, 49, 36, 25, 16, 9, 4, 1, 0]"
      ]
     },
     "execution_count": 4,
     "metadata": {},
     "output_type": "execute_result"
    }
   ],
   "source": [
    "data[::-1]"
   ]
  },
  {
   "cell_type": "code",
   "execution_count": 8,
   "id": "d7fe37f7-4ea0-4285-817e-54b7a0e46523",
   "metadata": {},
   "outputs": [],
   "source": [
    "with open(\"t1.txt\") as f:\n",
    "    data = f.read()"
   ]
  },
  {
   "cell_type": "code",
   "execution_count": 11,
   "id": "0baefd3d-6316-4d32-86e8-66c51e2448b5",
   "metadata": {},
   "outputs": [],
   "source": [
    "test = data.replace(\"!\",\"\").replace(\".\",\"\")"
   ]
  },
  {
   "cell_type": "code",
   "execution_count": 9,
   "id": "71db2a1a-ff5a-4736-bab1-b69e991e5af7",
   "metadata": {},
   "outputs": [
    {
     "data": {
      "text/plain": [
       "'Hello World. Hello Again!'"
      ]
     },
     "execution_count": 9,
     "metadata": {},
     "output_type": "execute_result"
    }
   ],
   "source": [
    "data\n"
   ]
  },
  {
   "cell_type": "code",
   "execution_count": 21,
   "id": "87008377-6ed9-4615-a9f6-09d2ce14778f",
   "metadata": {},
   "outputs": [],
   "source": [
    "test1 = test.split()"
   ]
  },
  {
   "cell_type": "code",
   "execution_count": 22,
   "id": "969cc3b2-1175-402e-b429-6f7283932f71",
   "metadata": {},
   "outputs": [
    {
     "data": {
      "text/plain": [
       "4"
      ]
     },
     "execution_count": 22,
     "metadata": {},
     "output_type": "execute_result"
    }
   ],
   "source": [
    "len(test1)"
   ]
  },
  {
   "cell_type": "code",
   "execution_count": 15,
   "id": "b8724294-3a38-4a91-8605-f51671ce0cfe",
   "metadata": {},
   "outputs": [],
   "source": [
    "from collections import Counter"
   ]
  },
  {
   "cell_type": "code",
   "execution_count": 23,
   "id": "49ae3ba3-04f5-4c24-a4fc-1dc940a54ea3",
   "metadata": {},
   "outputs": [],
   "source": [
    "counts = Counter(test1)"
   ]
  },
  {
   "cell_type": "code",
   "execution_count": 28,
   "id": "ee5d6462-cce2-4d8a-adcb-92eaf40643da",
   "metadata": {},
   "outputs": [
    {
     "name": "stdout",
     "output_type": "stream",
     "text": [
      "Hello 2\n",
      "World 1\n",
      "Again 1\n"
     ]
    }
   ],
   "source": [
    "all  = dict()\n",
    "for key,value in counts.items():\n",
    "    print(key,value)\n",
    "    all[key] = value"
   ]
  },
  {
   "cell_type": "code",
   "execution_count": 29,
   "id": "e5bbd0bb-b80a-4be9-9886-d38bf39169f7",
   "metadata": {},
   "outputs": [
    {
     "data": {
      "text/plain": [
       "{'Hello': 2, 'World': 1, 'Again': 1}"
      ]
     },
     "execution_count": 29,
     "metadata": {},
     "output_type": "execute_result"
    }
   ],
   "source": [
    "all"
   ]
  },
  {
   "cell_type": "code",
   "execution_count": 68,
   "id": "0e1bf9a5-c849-4584-9a32-4aee3cb205fd",
   "metadata": {},
   "outputs": [],
   "source": [
    "input_ = [{'title':'Book A','author':'Author X','year':2005},\n",
    "        {'title':'Book B','author':'Author X','year':2007},\n",
    "        {'title':'Book A','author':'Author X','year':2008}]"
   ]
  },
  {
   "cell_type": "code",
   "execution_count": 78,
   "id": "6bacecc0-433b-429b-ae5c-a82f98bc36e1",
   "metadata": {},
   "outputs": [
    {
     "data": {
      "text/plain": [
       "[{'title': 'Book A', 'author': 'Author X', 'year': 2008},\n",
       " {'title': 'Book A', 'author': 'Author X', 'year': 2005},\n",
       " {'title': 'Book B', 'author': 'Author X', 'year': 2007}]"
      ]
     },
     "execution_count": 78,
     "metadata": {},
     "output_type": "execute_result"
    }
   ],
   "source": [
    "res = sorted(input_,key=lambda x:(x['title'],-x['year']))\n",
    "res"
   ]
  },
  {
   "cell_type": "code",
   "execution_count": 71,
   "id": "f65fd33e-3506-4798-9ee0-d0ad9e55263c",
   "metadata": {},
   "outputs": [
    {
     "data": {
      "text/plain": [
       "[{'title': 'Book A', 'author': 'Author X', 'year': 2008},\n",
       " {'title': 'Book A', 'author': 'Author X', 'year': 2005},\n",
       " {'title': 'Book B', 'author': 'Author X', 'year': 2007}]"
      ]
     },
     "execution_count": 71,
     "metadata": {},
     "output_type": "execute_result"
    }
   ],
   "source": [
    "res"
   ]
  },
  {
   "cell_type": "code",
   "execution_count": 90,
   "id": "d429e5ec-3260-4946-9517-72144a6cd497",
   "metadata": {},
   "outputs": [],
   "source": [
    "fruits = [('apple',5),('banana',3),('apple',2),('orange',5)]"
   ]
  },
  {
   "cell_type": "code",
   "execution_count": 102,
   "id": "7eecbbed-6f8e-4a1c-bed3-5dd3755729ea",
   "metadata": {},
   "outputs": [],
   "source": [
    "from collections import Counter,defaultdict\n",
    "totals = Counter()"
   ]
  },
  {
   "cell_type": "code",
   "execution_count": 103,
   "id": "c00970e2-45db-4851-aad0-6b50c0e43e3a",
   "metadata": {},
   "outputs": [],
   "source": [
    "for key,value in fruits:\n",
    "    totals[key]+=value"
   ]
  },
  {
   "cell_type": "code",
   "execution_count": 104,
   "id": "52cfae68-5b6b-4689-aa8b-0d3b97ffc3a0",
   "metadata": {},
   "outputs": [
    {
     "data": {
      "text/plain": [
       "Counter({'apple': 7, 'banana': 3, 'orange': 5})"
      ]
     },
     "execution_count": 104,
     "metadata": {},
     "output_type": "execute_result"
    }
   ],
   "source": [
    "totals"
   ]
  },
  {
   "cell_type": "code",
   "execution_count": null,
   "id": "40f91515-4d9e-4f06-bb1f-75085dd6b2b9",
   "metadata": {},
   "outputs": [],
   "source": [
    "# DE: SCD2,CCD2"
   ]
  },
  {
   "cell_type": "code",
   "execution_count": 106,
   "id": "4df9a684-0deb-459a-9d39-9380d5b7ea28",
   "metadata": {},
   "outputs": [],
   "source": [
    "# SQL:\n",
    "# EXCLUDE JOIN\n",
    "# DEPT EMP\n",
    "# List of empty not meeting the join condition"
   ]
  },
  {
   "cell_type": "code",
   "execution_count": 114,
   "id": "0841772f-fa11-4d27-96ed-6bd7f40a1bfe",
   "metadata": {},
   "outputs": [
    {
     "data": {
      "text/plain": [
       "'\\nSELECT E.*\\nFROM EMP E\\nLEFT JOIN DEPT D ON E.dept_id = D.dept_id\\nWHERE D.dept_id IS NULL;\\n\\n'"
      ]
     },
     "execution_count": 114,
     "metadata": {},
     "output_type": "execute_result"
    }
   ],
   "source": [
    "# For Employees Not in Department (reverse case):\n",
    "# If you wanted to list employees who do not belong to any department, you can flip the tables:\n",
    "\n",
    "# Code:\n",
    "# %sql\n",
    "\"\"\"\n",
    "SELECT E.*\n",
    "FROM EMP E\n",
    "LEFT JOIN DEPT D ON E.dept_id = D.dept_id\n",
    "WHERE D.dept_id IS NULL;\n",
    "\n",
    "\"\"\"\n",
    "# This will list employees who do not have a matching department.\n",
    "\n",
    "# This pattern is sometimes referred to as an \"EXCLUDE JOIN\" or an \"ANTI JOIN\" depending on context, though SQL doesn't have an explicit ANTI JOIN keyword."
   ]
  },
  {
   "cell_type": "code",
   "execution_count": 137,
   "id": "d167a07a-aab0-4ea5-8af9-8e9ecf8d735d",
   "metadata": {},
   "outputs": [],
   "source": [
    "#Sort a Tuple Based on Marks, if Marks are same sort by names"
   ]
  },
  {
   "cell_type": "code",
   "execution_count": 124,
   "id": "85debb09-7ea7-4b4f-8dd4-d131aafb8155",
   "metadata": {},
   "outputs": [],
   "source": [
    "students = [('Hari',42),('Ram',40),('Krishna',40)]"
   ]
  },
  {
   "cell_type": "code",
   "execution_count": 140,
   "id": "ec913140-8ae2-4c77-bcf2-c3814c8ba051",
   "metadata": {},
   "outputs": [
    {
     "data": {
      "text/plain": [
       "[('Ram', 40), ('Krishna', 40), ('Hari', 42)]"
      ]
     },
     "execution_count": 140,
     "metadata": {},
     "output_type": "execute_result"
    }
   ],
   "source": [
    "sorted(students,key=lambda x:(-x[1],x[0]),reverse=True)\n"
   ]
  },
  {
   "cell_type": "code",
   "execution_count": 1,
   "id": "c2c5489a-74ef-43f6-a1d4-3f94b1674fa3",
   "metadata": {},
   "outputs": [],
   "source": [
    "#OOps Encapsulation amd Access Modfiers\n",
    "#Collections"
   ]
  }
 ],
 "metadata": {
  "kernelspec": {
   "display_name": "Python 3 (ipykernel)",
   "language": "python",
   "name": "python3"
  },
  "language_info": {
   "codemirror_mode": {
    "name": "ipython",
    "version": 3
   },
   "file_extension": ".py",
   "mimetype": "text/x-python",
   "name": "python",
   "nbconvert_exporter": "python",
   "pygments_lexer": "ipython3",
   "version": "3.9.0"
  }
 },
 "nbformat": 4,
 "nbformat_minor": 5
}
